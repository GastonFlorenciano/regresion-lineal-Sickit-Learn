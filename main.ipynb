{
 "cells": [
  {
   "cell_type": "markdown",
   "id": "3c1659e0",
   "metadata": {},
   "source": [
    "## **IMPORTACIONES**"
   ]
  },
  {
   "cell_type": "code",
   "execution_count": null,
   "id": "59d94274",
   "metadata": {},
   "outputs": [],
   "source": [
    "import pandas as pd\n",
    "import matplotlib.pyplot as plt\n",
    "import sklearn.linear_model as LinearRegression\n",
    "from sklearn.metrics import mean_squared_error"
   ]
  }
 ],
 "metadata": {
  "kernelspec": {
   "display_name": "env",
   "language": "python",
   "name": "python3"
  },
  "language_info": {
   "name": "python",
   "version": "3.13.3"
  }
 },
 "nbformat": 4,
 "nbformat_minor": 5
}
